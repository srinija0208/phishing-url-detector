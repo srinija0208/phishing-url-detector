{
 "cells": [
  {
   "cell_type": "code",
   "execution_count": 1,
   "id": "82e58ae6",
   "metadata": {},
   "outputs": [],
   "source": [
    "import pandas as pd\n",
    "import numpy as np\n",
    "import seaborn as sns\n",
    "import matplotlib.pyplot as plt\n",
    "%matplotlib inline"
   ]
  },
  {
   "cell_type": "code",
   "execution_count": 2,
   "id": "d0190d63",
   "metadata": {},
   "outputs": [],
   "source": [
    "df1 = pd.read_csv(r\"C:\\projects_endtoend\\phishing_classification\\Data\\Phishing URL dataset\\Phishing URLs.csv\")"
   ]
  },
  {
   "cell_type": "code",
   "execution_count": 3,
   "id": "5d840cb2",
   "metadata": {},
   "outputs": [],
   "source": [
    "df2 = pd.read_csv(r\"C:\\projects_endtoend\\phishing_classification\\Data\\Phishing URL dataset\\URL dataset.csv\")"
   ]
  },
  {
   "cell_type": "code",
   "execution_count": 4,
   "id": "4e9d2e98",
   "metadata": {},
   "outputs": [
    {
     "data": {
      "text/html": [
       "<div>\n",
       "<style scoped>\n",
       "    .dataframe tbody tr th:only-of-type {\n",
       "        vertical-align: middle;\n",
       "    }\n",
       "\n",
       "    .dataframe tbody tr th {\n",
       "        vertical-align: top;\n",
       "    }\n",
       "\n",
       "    .dataframe thead th {\n",
       "        text-align: right;\n",
       "    }\n",
       "</style>\n",
       "<table border=\"1\" class=\"dataframe\">\n",
       "  <thead>\n",
       "    <tr style=\"text-align: right;\">\n",
       "      <th></th>\n",
       "      <th>url</th>\n",
       "      <th>Type</th>\n",
       "    </tr>\n",
       "  </thead>\n",
       "  <tbody>\n",
       "    <tr>\n",
       "      <th>0</th>\n",
       "      <td>https://docs.google.com/presentation/d/e/2PACX...</td>\n",
       "      <td>Phishing</td>\n",
       "    </tr>\n",
       "    <tr>\n",
       "      <th>1</th>\n",
       "      <td>https://btttelecommunniccatiion.weeblysite.com/</td>\n",
       "      <td>Phishing</td>\n",
       "    </tr>\n",
       "    <tr>\n",
       "      <th>2</th>\n",
       "      <td>https://kq0hgp.webwave.dev/</td>\n",
       "      <td>Phishing</td>\n",
       "    </tr>\n",
       "    <tr>\n",
       "      <th>3</th>\n",
       "      <td>https://brittishtele1bt-69836.getresponsesite....</td>\n",
       "      <td>Phishing</td>\n",
       "    </tr>\n",
       "    <tr>\n",
       "      <th>4</th>\n",
       "      <td>https://bt-internet-105056.weeblysite.com/</td>\n",
       "      <td>Phishing</td>\n",
       "    </tr>\n",
       "  </tbody>\n",
       "</table>\n",
       "</div>"
      ],
      "text/plain": [
       "                                                 url      Type\n",
       "0  https://docs.google.com/presentation/d/e/2PACX...  Phishing\n",
       "1    https://btttelecommunniccatiion.weeblysite.com/  Phishing\n",
       "2                        https://kq0hgp.webwave.dev/  Phishing\n",
       "3  https://brittishtele1bt-69836.getresponsesite....  Phishing\n",
       "4         https://bt-internet-105056.weeblysite.com/  Phishing"
      ]
     },
     "execution_count": 4,
     "metadata": {},
     "output_type": "execute_result"
    }
   ],
   "source": [
    "df1.head()"
   ]
  },
  {
   "cell_type": "code",
   "execution_count": 5,
   "id": "644bd062",
   "metadata": {},
   "outputs": [
    {
     "data": {
      "text/html": [
       "<div>\n",
       "<style scoped>\n",
       "    .dataframe tbody tr th:only-of-type {\n",
       "        vertical-align: middle;\n",
       "    }\n",
       "\n",
       "    .dataframe tbody tr th {\n",
       "        vertical-align: top;\n",
       "    }\n",
       "\n",
       "    .dataframe thead th {\n",
       "        text-align: right;\n",
       "    }\n",
       "</style>\n",
       "<table border=\"1\" class=\"dataframe\">\n",
       "  <thead>\n",
       "    <tr style=\"text-align: right;\">\n",
       "      <th></th>\n",
       "      <th>url</th>\n",
       "      <th>type</th>\n",
       "    </tr>\n",
       "  </thead>\n",
       "  <tbody>\n",
       "    <tr>\n",
       "      <th>0</th>\n",
       "      <td>https://www.google.com</td>\n",
       "      <td>legitimate</td>\n",
       "    </tr>\n",
       "    <tr>\n",
       "      <th>1</th>\n",
       "      <td>https://www.youtube.com</td>\n",
       "      <td>legitimate</td>\n",
       "    </tr>\n",
       "    <tr>\n",
       "      <th>2</th>\n",
       "      <td>https://www.facebook.com</td>\n",
       "      <td>legitimate</td>\n",
       "    </tr>\n",
       "    <tr>\n",
       "      <th>3</th>\n",
       "      <td>https://www.baidu.com</td>\n",
       "      <td>legitimate</td>\n",
       "    </tr>\n",
       "    <tr>\n",
       "      <th>4</th>\n",
       "      <td>https://www.wikipedia.org</td>\n",
       "      <td>legitimate</td>\n",
       "    </tr>\n",
       "  </tbody>\n",
       "</table>\n",
       "</div>"
      ],
      "text/plain": [
       "                         url        type\n",
       "0     https://www.google.com  legitimate\n",
       "1    https://www.youtube.com  legitimate\n",
       "2   https://www.facebook.com  legitimate\n",
       "3      https://www.baidu.com  legitimate\n",
       "4  https://www.wikipedia.org  legitimate"
      ]
     },
     "execution_count": 5,
     "metadata": {},
     "output_type": "execute_result"
    }
   ],
   "source": [
    "df2.head()"
   ]
  },
  {
   "cell_type": "code",
   "execution_count": 6,
   "id": "9d6e9913",
   "metadata": {},
   "outputs": [
    {
     "data": {
      "text/plain": [
       "(54807, 2)"
      ]
     },
     "execution_count": 6,
     "metadata": {},
     "output_type": "execute_result"
    }
   ],
   "source": [
    "df1.shape"
   ]
  },
  {
   "cell_type": "code",
   "execution_count": 7,
   "id": "a9c401a3",
   "metadata": {},
   "outputs": [
    {
     "data": {
      "text/plain": [
       "(450176, 2)"
      ]
     },
     "execution_count": 7,
     "metadata": {},
     "output_type": "execute_result"
    }
   ],
   "source": [
    "df2.shape"
   ]
  },
  {
   "cell_type": "code",
   "execution_count": 8,
   "id": "f73a5a5f",
   "metadata": {},
   "outputs": [
    {
     "data": {
      "text/plain": [
       "Phishing    54807\n",
       "Name: Type, dtype: int64"
      ]
     },
     "execution_count": 8,
     "metadata": {},
     "output_type": "execute_result"
    }
   ],
   "source": [
    "df1['Type'].value_counts()"
   ]
  },
  {
   "cell_type": "code",
   "execution_count": 9,
   "id": "44ab6102",
   "metadata": {},
   "outputs": [
    {
     "data": {
      "text/plain": [
       "legitimate    345738\n",
       "phishing      104438\n",
       "Name: type, dtype: int64"
      ]
     },
     "execution_count": 9,
     "metadata": {},
     "output_type": "execute_result"
    }
   ],
   "source": [
    "df2['type'].value_counts()"
   ]
  },
  {
   "cell_type": "code",
   "execution_count": 10,
   "id": "8ac2b6f3",
   "metadata": {},
   "outputs": [],
   "source": [
    "df1.rename(columns={'url':'URL','Type':'type'}, inplace=True)\n",
    "df2.rename(columns={'url':'URL'}, inplace=True)"
   ]
  },
  {
   "cell_type": "code",
   "execution_count": 11,
   "id": "a12fcb27",
   "metadata": {},
   "outputs": [],
   "source": [
    "data = pd.concat([df1,df2], axis=0, ignore_index=True)\n",
    "data = data.sample(frac=1, random_state=42).reset_index(drop=True)"
   ]
  },
  {
   "cell_type": "code",
   "execution_count": 12,
   "id": "8ec96c88",
   "metadata": {},
   "outputs": [
    {
     "data": {
      "text/plain": [
       "(504983, 2)"
      ]
     },
     "execution_count": 12,
     "metadata": {},
     "output_type": "execute_result"
    }
   ],
   "source": [
    "data.shape"
   ]
  },
  {
   "cell_type": "code",
   "execution_count": 13,
   "id": "5d56a68d",
   "metadata": {},
   "outputs": [
    {
     "data": {
      "text/plain": [
       "Index(['URL', 'type'], dtype='object')"
      ]
     },
     "execution_count": 13,
     "metadata": {},
     "output_type": "execute_result"
    }
   ],
   "source": [
    "data.columns"
   ]
  },
  {
   "cell_type": "code",
   "execution_count": 14,
   "id": "cbc8d739",
   "metadata": {},
   "outputs": [
    {
     "data": {
      "text/html": [
       "<div>\n",
       "<style scoped>\n",
       "    .dataframe tbody tr th:only-of-type {\n",
       "        vertical-align: middle;\n",
       "    }\n",
       "\n",
       "    .dataframe tbody tr th {\n",
       "        vertical-align: top;\n",
       "    }\n",
       "\n",
       "    .dataframe thead th {\n",
       "        text-align: right;\n",
       "    }\n",
       "</style>\n",
       "<table border=\"1\" class=\"dataframe\">\n",
       "  <thead>\n",
       "    <tr style=\"text-align: right;\">\n",
       "      <th></th>\n",
       "      <th>URL</th>\n",
       "      <th>type</th>\n",
       "    </tr>\n",
       "  </thead>\n",
       "  <tbody>\n",
       "    <tr>\n",
       "      <th>0</th>\n",
       "      <td>http://rhbtradesmart.co.id/wp-content/themes/d...</td>\n",
       "      <td>phishing</td>\n",
       "    </tr>\n",
       "    <tr>\n",
       "      <th>1</th>\n",
       "      <td>http://bbs.due-dili.com/common/Centro</td>\n",
       "      <td>phishing</td>\n",
       "    </tr>\n",
       "    <tr>\n",
       "      <th>2</th>\n",
       "      <td>https://www.eripplescebu.com/</td>\n",
       "      <td>legitimate</td>\n",
       "    </tr>\n",
       "    <tr>\n",
       "      <th>3</th>\n",
       "      <td>http://www.saequity.com/wp-includes/SimplePie/...</td>\n",
       "      <td>phishing</td>\n",
       "    </tr>\n",
       "    <tr>\n",
       "      <th>4</th>\n",
       "      <td>https://www.museesmontreal.org/main.php?l=e&amp;d=...</td>\n",
       "      <td>legitimate</td>\n",
       "    </tr>\n",
       "  </tbody>\n",
       "</table>\n",
       "</div>"
      ],
      "text/plain": [
       "                                                 URL        type\n",
       "0  http://rhbtradesmart.co.id/wp-content/themes/d...    phishing\n",
       "1              http://bbs.due-dili.com/common/Centro    phishing\n",
       "2                      https://www.eripplescebu.com/  legitimate\n",
       "3  http://www.saequity.com/wp-includes/SimplePie/...    phishing\n",
       "4  https://www.museesmontreal.org/main.php?l=e&d=...  legitimate"
      ]
     },
     "execution_count": 14,
     "metadata": {},
     "output_type": "execute_result"
    }
   ],
   "source": [
    "data.head()"
   ]
  },
  {
   "cell_type": "code",
   "execution_count": 15,
   "id": "1b7c8f2f",
   "metadata": {},
   "outputs": [
    {
     "name": "stdout",
     "output_type": "stream",
     "text": [
      "<class 'pandas.core.frame.DataFrame'>\n",
      "RangeIndex: 504983 entries, 0 to 504982\n",
      "Data columns (total 2 columns):\n",
      " #   Column  Non-Null Count   Dtype \n",
      "---  ------  --------------   ----- \n",
      " 0   URL     504983 non-null  object\n",
      " 1   type    504983 non-null  object\n",
      "dtypes: object(2)\n",
      "memory usage: 7.7+ MB\n"
     ]
    }
   ],
   "source": [
    "data.info()"
   ]
  },
  {
   "cell_type": "code",
   "execution_count": 16,
   "id": "b24a8ca4",
   "metadata": {},
   "outputs": [
    {
     "data": {
      "text/html": [
       "<div>\n",
       "<style scoped>\n",
       "    .dataframe tbody tr th:only-of-type {\n",
       "        vertical-align: middle;\n",
       "    }\n",
       "\n",
       "    .dataframe tbody tr th {\n",
       "        vertical-align: top;\n",
       "    }\n",
       "\n",
       "    .dataframe thead th {\n",
       "        text-align: right;\n",
       "    }\n",
       "</style>\n",
       "<table border=\"1\" class=\"dataframe\">\n",
       "  <thead>\n",
       "    <tr style=\"text-align: right;\">\n",
       "      <th></th>\n",
       "      <th>URL</th>\n",
       "      <th>type</th>\n",
       "    </tr>\n",
       "  </thead>\n",
       "  <tbody>\n",
       "    <tr>\n",
       "      <th>count</th>\n",
       "      <td>504983</td>\n",
       "      <td>504983</td>\n",
       "    </tr>\n",
       "    <tr>\n",
       "      <th>unique</th>\n",
       "      <td>504933</td>\n",
       "      <td>3</td>\n",
       "    </tr>\n",
       "    <tr>\n",
       "      <th>top</th>\n",
       "      <td>https://storage.cloud.google.com/1lordman1man3...</td>\n",
       "      <td>legitimate</td>\n",
       "    </tr>\n",
       "    <tr>\n",
       "      <th>freq</th>\n",
       "      <td>3</td>\n",
       "      <td>345738</td>\n",
       "    </tr>\n",
       "  </tbody>\n",
       "</table>\n",
       "</div>"
      ],
      "text/plain": [
       "                                                      URL        type\n",
       "count                                              504983      504983\n",
       "unique                                             504933           3\n",
       "top     https://storage.cloud.google.com/1lordman1man3...  legitimate\n",
       "freq                                                    3      345738"
      ]
     },
     "execution_count": 16,
     "metadata": {},
     "output_type": "execute_result"
    }
   ],
   "source": [
    "data.describe(include='all')"
   ]
  },
  {
   "cell_type": "code",
   "execution_count": 17,
   "id": "65d5a6f0",
   "metadata": {},
   "outputs": [
    {
     "data": {
      "text/plain": [
       "URL     504933\n",
       "type         3\n",
       "dtype: int64"
      ]
     },
     "execution_count": 17,
     "metadata": {},
     "output_type": "execute_result"
    }
   ],
   "source": [
    "data.nunique()"
   ]
  },
  {
   "cell_type": "code",
   "execution_count": 18,
   "id": "15ccc2ab",
   "metadata": {},
   "outputs": [
    {
     "data": {
      "text/plain": [
       "legitimate    345738\n",
       "phishing      104438\n",
       "Phishing       54807\n",
       "Name: type, dtype: int64"
      ]
     },
     "execution_count": 18,
     "metadata": {},
     "output_type": "execute_result"
    }
   ],
   "source": [
    "data['type'].value_counts()"
   ]
  },
  {
   "cell_type": "code",
   "execution_count": 19,
   "id": "85e8300d",
   "metadata": {},
   "outputs": [],
   "source": [
    "data['type'] = data['type'].str.lower()"
   ]
  },
  {
   "cell_type": "code",
   "execution_count": 20,
   "id": "d461e06a",
   "metadata": {},
   "outputs": [
    {
     "data": {
      "text/plain": [
       "legitimate    345738\n",
       "phishing      159245\n",
       "Name: type, dtype: int64"
      ]
     },
     "execution_count": 20,
     "metadata": {},
     "output_type": "execute_result"
    }
   ],
   "source": [
    "data['type'].value_counts()"
   ]
  },
  {
   "cell_type": "code",
   "execution_count": 21,
   "id": "107b2f04",
   "metadata": {},
   "outputs": [
    {
     "data": {
      "text/plain": [
       "URL     0\n",
       "type    0\n",
       "dtype: int64"
      ]
     },
     "execution_count": 21,
     "metadata": {},
     "output_type": "execute_result"
    }
   ],
   "source": [
    "data.isna().sum()"
   ]
  },
  {
   "cell_type": "code",
   "execution_count": 22,
   "id": "b155f71d",
   "metadata": {},
   "outputs": [
    {
     "data": {
      "text/plain": [
       "50"
      ]
     },
     "execution_count": 22,
     "metadata": {},
     "output_type": "execute_result"
    }
   ],
   "source": [
    "data.duplicated().sum()"
   ]
  },
  {
   "cell_type": "code",
   "execution_count": 23,
   "id": "a4a1675f",
   "metadata": {},
   "outputs": [],
   "source": [
    "data.drop_duplicates(inplace=True)"
   ]
  },
  {
   "cell_type": "code",
   "execution_count": 24,
   "id": "b6d03ac0",
   "metadata": {},
   "outputs": [
    {
     "data": {
      "text/plain": [
       "0"
      ]
     },
     "execution_count": 24,
     "metadata": {},
     "output_type": "execute_result"
    }
   ],
   "source": [
    "data.duplicated().sum()"
   ]
  },
  {
   "cell_type": "code",
   "execution_count": 25,
   "id": "976712bc",
   "metadata": {},
   "outputs": [
    {
     "data": {
      "text/plain": [
       "(504933, 2)"
      ]
     },
     "execution_count": 25,
     "metadata": {},
     "output_type": "execute_result"
    }
   ],
   "source": [
    "data.shape"
   ]
  },
  {
   "cell_type": "code",
   "execution_count": 26,
   "id": "ef16419a",
   "metadata": {},
   "outputs": [
    {
     "data": {
      "image/png": "[encoded data removed]",
      "text/plain": [
       "<Figure size 640x480 with 1 Axes>"
      ]
     },
     "metadata": {},
     "output_type": "display_data"
    }
   ],
   "source": [
    "sns.barplot(x=data['type'].value_counts().index, y=data['type'].value_counts().values, color='green')\n",
    "plt.xlabel('Type')\n",
    "plt.ylabel('Count')\n",
    "plt.title('Distribution of URL Types')\n",
    "plt.show()"
   ]
  },
  {
   "cell_type": "markdown",
   "id": "1e47fd2b",
   "metadata": {},
   "source": [
    "# Preprocessing"
   ]
  },
  {
   "cell_type": "code",
   "execution_count": 27,
   "id": "4eae3ff6",
   "metadata": {},
   "outputs": [],
   "source": [
    "data['type'] = data['type'].map({'legitimate':0, 'phishing':1})"
   ]
  },
  {
   "cell_type": "code",
   "execution_count": 28,
   "id": "aeff00a7",
   "metadata": {},
   "outputs": [],
   "source": [
    "data = data.rename(columns={'type':'label'})"
   ]
  },
  {
   "cell_type": "code",
   "execution_count": 29,
   "id": "e47cfcfd",
   "metadata": {},
   "outputs": [
    {
     "data": {
      "text/html": [
       "<div>\n",
       "<style scoped>\n",
       "    .dataframe tbody tr th:only-of-type {\n",
       "        vertical-align: middle;\n",
       "    }\n",
       "\n",
       "    .dataframe tbody tr th {\n",
       "        vertical-align: top;\n",
       "    }\n",
       "\n",
       "    .dataframe thead th {\n",
       "        text-align: right;\n",
       "    }\n",
       "</style>\n",
       "<table border=\"1\" class=\"dataframe\">\n",
       "  <thead>\n",
       "    <tr style=\"text-align: right;\">\n",
       "      <th></th>\n",
       "      <th>URL</th>\n",
       "      <th>label</th>\n",
       "    </tr>\n",
       "  </thead>\n",
       "  <tbody>\n",
       "    <tr>\n",
       "      <th>0</th>\n",
       "      <td>http://rhbtradesmart.co.id/wp-content/themes/d...</td>\n",
       "      <td>1</td>\n",
       "    </tr>\n",
       "    <tr>\n",
       "      <th>1</th>\n",
       "      <td>http://bbs.due-dili.com/common/Centro</td>\n",
       "      <td>1</td>\n",
       "    </tr>\n",
       "    <tr>\n",
       "      <th>2</th>\n",
       "      <td>https://www.eripplescebu.com/</td>\n",
       "      <td>0</td>\n",
       "    </tr>\n",
       "    <tr>\n",
       "      <th>3</th>\n",
       "      <td>http://www.saequity.com/wp-includes/SimplePie/...</td>\n",
       "      <td>1</td>\n",
       "    </tr>\n",
       "    <tr>\n",
       "      <th>4</th>\n",
       "      <td>https://www.museesmontreal.org/main.php?l=e&amp;d=...</td>\n",
       "      <td>0</td>\n",
       "    </tr>\n",
       "  </tbody>\n",
       "</table>\n",
       "</div>"
      ],
      "text/plain": [
       "                                                 URL  label\n",
       "0  http://rhbtradesmart.co.id/wp-content/themes/d...      1\n",
       "1              http://bbs.due-dili.com/common/Centro      1\n",
       "2                      https://www.eripplescebu.com/      0\n",
       "3  http://www.saequity.com/wp-includes/SimplePie/...      1\n",
       "4  https://www.museesmontreal.org/main.php?l=e&d=...      0"
      ]
     },
     "execution_count": 29,
     "metadata": {},
     "output_type": "execute_result"
    }
   ],
   "source": [
    "data.head()"
   ]
  },
  {
   "cell_type": "code",
   "execution_count": 30,
   "id": "ca5279a8",
   "metadata": {},
   "outputs": [],
   "source": [
    "import string\n",
    "string.punctuation\n",
    "\n",
    "import re"
   ]
  },
  {
   "cell_type": "code",
   "execution_count": 31,
   "id": "329084db",
   "metadata": {},
   "outputs": [],
   "source": [
    "def extract_features(df):\n",
    "\n",
    "    df = df.copy()\n",
    "\n",
    "    # Feature 1: Length of URL\n",
    "    df['url_length'] = df['URL'].apply(len)\n",
    "\n",
    "    # Feature 2: Count of special characters\n",
    "    df['special_char_count'] = df['URL'].apply(lambda x: sum(i in string.punctuation for i in x))\n",
    "\n",
    "    # Feature 3: Count of digits in URL\n",
    "    df['digit_count'] = df['URL'].apply(lambda x: sum(i.isdigit() for i in x))\n",
    "\n",
    "    # Feature 4: subdomain count in URL\n",
    "    df['subdomain_count'] = df['URL'].apply(lambda x: x.count('.'))\n",
    "\n",
    "    # Feature 5: is domain an IP address\n",
    "    df[\"is_ip\"] = df[\"URL\"].apply(lambda x: 1 if re.match(r\"(\\d{1,3}\\.){3}\\d{1,3}\", x) else 0)\n",
    "\n",
    "    # Feature 6: Presence of 'https' in URL\n",
    "    df['has_https'] = df['URL'].apply(lambda x: 1 if 'https' in x else 0)\n",
    "\n",
    "    return df\n",
    "\n",
    "data = extract_features(data)"
   ]
  },
  {
   "cell_type": "code",
   "execution_count": 32,
   "id": "f9e9f765",
   "metadata": {},
   "outputs": [
    {
     "data": {
      "text/html": [
       "<div>\n",
       "<style scoped>\n",
       "    .dataframe tbody tr th:only-of-type {\n",
       "        vertical-align: middle;\n",
       "    }\n",
       "\n",
       "    .dataframe tbody tr th {\n",
       "        vertical-align: top;\n",
       "    }\n",
       "\n",
       "    .dataframe thead th {\n",
       "        text-align: right;\n",
       "    }\n",
       "</style>\n",
       "<table border=\"1\" class=\"dataframe\">\n",
       "  <thead>\n",
       "    <tr style=\"text-align: right;\">\n",
       "      <th></th>\n",
       "      <th>URL</th>\n",
       "      <th>label</th>\n",
       "      <th>url_length</th>\n",
       "      <th>special_char_count</th>\n",
       "      <th>digit_count</th>\n",
       "      <th>subdomain_count</th>\n",
       "      <th>is_ip</th>\n",
       "      <th>has_https</th>\n",
       "    </tr>\n",
       "  </thead>\n",
       "  <tbody>\n",
       "    <tr>\n",
       "      <th>0</th>\n",
       "      <td>http://rhbtradesmart.co.id/wp-content/themes/d...</td>\n",
       "      <td>1</td>\n",
       "      <td>61</td>\n",
       "      <td>11</td>\n",
       "      <td>0</td>\n",
       "      <td>3</td>\n",
       "      <td>0</td>\n",
       "      <td>0</td>\n",
       "    </tr>\n",
       "    <tr>\n",
       "      <th>1</th>\n",
       "      <td>http://bbs.due-dili.com/common/Centro</td>\n",
       "      <td>1</td>\n",
       "      <td>37</td>\n",
       "      <td>8</td>\n",
       "      <td>0</td>\n",
       "      <td>2</td>\n",
       "      <td>0</td>\n",
       "      <td>0</td>\n",
       "    </tr>\n",
       "    <tr>\n",
       "      <th>2</th>\n",
       "      <td>https://www.eripplescebu.com/</td>\n",
       "      <td>0</td>\n",
       "      <td>29</td>\n",
       "      <td>6</td>\n",
       "      <td>0</td>\n",
       "      <td>2</td>\n",
       "      <td>0</td>\n",
       "      <td>1</td>\n",
       "    </tr>\n",
       "    <tr>\n",
       "      <th>3</th>\n",
       "      <td>http://www.saequity.com/wp-includes/SimplePie/...</td>\n",
       "      <td>1</td>\n",
       "      <td>109</td>\n",
       "      <td>20</td>\n",
       "      <td>1</td>\n",
       "      <td>3</td>\n",
       "      <td>0</td>\n",
       "      <td>0</td>\n",
       "    </tr>\n",
       "    <tr>\n",
       "      <th>4</th>\n",
       "      <td>https://www.museesmontreal.org/main.php?l=e&amp;d=...</td>\n",
       "      <td>0</td>\n",
       "      <td>61</td>\n",
       "      <td>15</td>\n",
       "      <td>3</td>\n",
       "      <td>3</td>\n",
       "      <td>0</td>\n",
       "      <td>1</td>\n",
       "    </tr>\n",
       "  </tbody>\n",
       "</table>\n",
       "</div>"
      ],
      "text/plain": [
       "                                                 URL  label  url_length  \\\n",
       "0  http://rhbtradesmart.co.id/wp-content/themes/d...      1          61   \n",
       "1              http://bbs.due-dili.com/common/Centro      1          37   \n",
       "2                      https://www.eripplescebu.com/      0          29   \n",
       "3  http://www.saequity.com/wp-includes/SimplePie/...      1         109   \n",
       "4  https://www.museesmontreal.org/main.php?l=e&d=...      0          61   \n",
       "\n",
       "   special_char_count  digit_count  subdomain_count  is_ip  has_https  \n",
       "0                  11            0                3      0          0  \n",
       "1                   8            0                2      0          0  \n",
       "2                   6            0                2      0          1  \n",
       "3                  20            1                3      0          0  \n",
       "4                  15            3                3      0          1  "
      ]
     },
     "execution_count": 32,
     "metadata": {},
     "output_type": "execute_result"
    }
   ],
   "source": [
    "data.head()"
   ]
  },
  {
   "cell_type": "code",
   "execution_count": 33,
   "id": "502125bd",
   "metadata": {},
   "outputs": [
    {
     "data": {
      "text/plain": [
       "Index(['URL', 'label', 'url_length', 'special_char_count', 'digit_count',\n",
       "       'subdomain_count', 'is_ip', 'has_https'],\n",
       "      dtype='object')"
      ]
     },
     "execution_count": 33,
     "metadata": {},
     "output_type": "execute_result"
    }
   ],
   "source": [
    "data.columns"
   ]
  },
  {
   "cell_type": "code",
   "execution_count": 34,
   "id": "6e7f3d28",
   "metadata": {},
   "outputs": [
    {
     "data": {
      "text/plain": [
       "URL                   0\n",
       "label                 0\n",
       "url_length            0\n",
       "special_char_count    0\n",
       "digit_count           0\n",
       "subdomain_count       0\n",
       "is_ip                 0\n",
       "has_https             0\n",
       "dtype: int64"
      ]
     },
     "execution_count": 34,
     "metadata": {},
     "output_type": "execute_result"
    }
   ],
   "source": [
    "data.isna().sum()"
   ]
  },
  {
   "cell_type": "code",
   "execution_count": 35,
   "id": "df99be65",
   "metadata": {},
   "outputs": [
    {
     "data": {
      "text/plain": [
       "0"
      ]
     },
     "execution_count": 35,
     "metadata": {},
     "output_type": "execute_result"
    }
   ],
   "source": [
    "data.duplicated().sum()"
   ]
  },
  {
   "cell_type": "code",
   "execution_count": 36,
   "id": "35358f8a",
   "metadata": {},
   "outputs": [],
   "source": [
    "X = data.drop('label',axis=1)\n",
    "y = data['label']"
   ]
  },
  {
   "cell_type": "markdown",
   "id": "71d67367",
   "metadata": {},
   "source": [
    "## Model Building"
   ]
  },
  {
   "cell_type": "code",
   "execution_count": 37,
   "id": "cb43f59f",
   "metadata": {},
   "outputs": [],
   "source": [
    "from sklearn.model_selection import train_test_split\n",
    "from sklearn.preprocessing import StandardScaler\n",
    "from sklearn.feature_extraction.text import TfidfVectorizer\n",
    "from sklearn.linear_model import LogisticRegression\n",
    "from sklearn.ensemble import RandomForestClassifier\n",
    "import xgboost as xgb\n",
    "from sklearn.ensemble import GradientBoostingClassifier\n",
    "\n",
    "from sklearn.metrics import accuracy_score, classification_report, confusion_matrix, precision_score, recall_score\n"
   ]
  },
  {
   "cell_type": "code",
   "execution_count": 38,
   "id": "5481023a",
   "metadata": {},
   "outputs": [],
   "source": [
    "X_train, X_test, y_train, y_test = train_test_split(X, y, test_size=0.2, random_state=42, stratify=y)"
   ]
  },
  {
   "cell_type": "code",
   "execution_count": 39,
   "id": "165e9a05",
   "metadata": {},
   "outputs": [
    {
     "data": {
      "text/plain": [
       "(403946, 7)"
      ]
     },
     "execution_count": 39,
     "metadata": {},
     "output_type": "execute_result"
    }
   ],
   "source": [
    "X_train.shape"
   ]
  },
  {
   "cell_type": "code",
   "execution_count": 40,
   "id": "9a3f8737",
   "metadata": {},
   "outputs": [
    {
     "data": {
      "text/plain": [
       "(100987, 7)"
      ]
     },
     "execution_count": 40,
     "metadata": {},
     "output_type": "execute_result"
    }
   ],
   "source": [
    "X_test.shape"
   ]
  },
  {
   "cell_type": "markdown",
   "id": "5598b9b2",
   "metadata": {},
   "source": [
    "## Vectorization"
   ]
  },
  {
   "cell_type": "code",
   "execution_count": 41,
   "id": "b0ad45d2",
   "metadata": {},
   "outputs": [
    {
     "name": "stdout",
     "output_type": "stream",
     "text": [
      "X_train shape: (403946, 7)\n",
      "X_train_vectorized shape: (403946, 1000)\n"
     ]
    }
   ],
   "source": [
    "vectorizer = TfidfVectorizer(max_features=1000,analyzer='char',ngram_range=(2,5))\n",
    "\n",
    "url_train = X_train['URL']\n",
    "url_test = X_test['URL']\n",
    "\n",
    "X_train_vectorized = vectorizer.fit_transform(url_train)\n",
    "X_test_vectorized = vectorizer.transform(url_test)\n",
    "\n",
    "print(\"X_train shape:\", X_train.shape)\n",
    "print(\"X_train_vectorized shape:\", X_train_vectorized.shape)\n"
   ]
  },
  {
   "cell_type": "markdown",
   "id": "be7ab62a",
   "metadata": {},
   "source": [
    "## Scaling the data"
   ]
  },
  {
   "cell_type": "code",
   "execution_count": 42,
   "id": "036cba76",
   "metadata": {},
   "outputs": [
    {
     "name": "stdout",
     "output_type": "stream",
     "text": [
      "Numerical features shape: (403946, 6)\n"
     ]
    }
   ],
   "source": [
    "scaler = StandardScaler()\n",
    "\n",
    "num_train = X_train.select_dtypes(include=['int64', 'float64'])\n",
    "num_test = X_test.select_dtypes(include=['int64', 'float64'])\n",
    "\n",
    "num_train_scaled = scaler.fit_transform(num_train)\n",
    "num_test_scaled = scaler.transform(num_test)\n",
    "\n",
    "print(\"Numerical features shape:\", num_train_scaled.shape)\n"
   ]
  },
  {
   "cell_type": "code",
   "execution_count": 43,
   "id": "f8798787",
   "metadata": {},
   "outputs": [],
   "source": [
    "from scipy.sparse import hstack\n",
    "\n",
    "X_train_final = hstack([X_train_vectorized, num_train_scaled])\n",
    "X_test_final = hstack([X_test_vectorized, num_test_scaled])"
   ]
  },
  {
   "cell_type": "code",
   "execution_count": 44,
   "id": "bb7f5db5",
   "metadata": {},
   "outputs": [
    {
     "data": {
      "text/plain": [
       "(403946, 1006)"
      ]
     },
     "execution_count": 44,
     "metadata": {},
     "output_type": "execute_result"
    }
   ],
   "source": [
    "X_train_final.shape"
   ]
  },
  {
   "cell_type": "code",
   "execution_count": 45,
   "id": "e28a6d60",
   "metadata": {},
   "outputs": [
    {
     "data": {
      "text/plain": [
       "0    345738\n",
       "1    159195\n",
       "Name: label, dtype: int64"
      ]
     },
     "execution_count": 45,
     "metadata": {},
     "output_type": "execute_result"
    }
   ],
   "source": [
    "data['label'].value_counts()"
   ]
  },
  {
   "cell_type": "code",
   "execution_count": 47,
   "id": "2e70ebe7",
   "metadata": {},
   "outputs": [],
   "source": [
    "models = {\n",
    "    'Logistic Regression': LogisticRegression(max_iter=200, class_weight='balanced', solver='saga', n_jobs=-1, tol=1e-3),\n",
    "    'Random Forest': RandomForestClassifier(class_weight='balanced',n_estimators=20,random_state=42, n_jobs=-1),\n",
    "    'XGBoost': xgb.XGBClassifier(n_estimators=20, n_jobs=-1),\n",
    "    'Gradient Boosting': GradientBoostingClassifier(n_estimators=20, random_state=42)\n",
    "}"
   ]
  },
  {
   "cell_type": "code",
   "execution_count": 48,
   "id": "68028c26",
   "metadata": {},
   "outputs": [
    {
     "name": "stdout",
     "output_type": "stream",
     "text": [
      "\n",
      " --- Logistic Regression ---\n"
     ]
    },
    {
     "name": "stderr",
     "output_type": "stream",
     "text": [
      "c:\\projects_endtoend\\phishing_classification\\env\\lib\\site-packages\\sklearn\\linear_model\\_sag.py:350: ConvergenceWarning: The max_iter was reached which means the coef_ did not converge\n",
      "  warnings.warn(\n"
     ]
    },
    {
     "name": "stdout",
     "output_type": "stream",
     "text": [
      "Accuracy: 0.9781060928634379\n",
      "Precision: 0.99268325129706\n",
      "Recall: 0.9374666289770407\n",
      "Confusion Matrix:\n",
      " [[68928   220]\n",
      " [ 1991 29848]]\n",
      "============================================================\n",
      "\n",
      " --- Random Forest ---\n",
      "Accuracy: 0.996048996405478\n",
      "Precision: 0.9964315038211331\n",
      "Recall: 0.9910173058199064\n",
      "Confusion Matrix:\n",
      " [[69035   113]\n",
      " [  286 31553]]\n",
      "============================================================\n",
      "\n",
      " --- XGBoost ---\n",
      "Accuracy: 0.9957420262013923\n",
      "Precision: 0.9960830148150488\n",
      "Recall: 0.990389145387732\n",
      "Confusion Matrix:\n",
      " [[69024   124]\n",
      " [  306 31533]]\n",
      "============================================================\n",
      "\n",
      " --- Gradient Boosting ---\n",
      "Accuracy: 0.994197272916316\n",
      "Precision: 0.995685963521015\n",
      "Recall: 0.9858663902760765\n",
      "Confusion Matrix:\n",
      " [[69012   136]\n",
      " [  450 31389]]\n",
      "============================================================\n",
      "\n",
      " Best Model based on Recall: Random Forest\n",
      "Recall: 0.9910\n",
      "Confusion Matrix of Best Model:\n",
      " [[69035   113]\n",
      " [  286 31553]]\n"
     ]
    }
   ],
   "source": [
    "accuracy = []\n",
    "precision = []\n",
    "recall = []\n",
    "\n",
    "best_model = None\n",
    "best_model_name = None\n",
    "best_recall = 0\n",
    "best_cm = None\n",
    "\n",
    "for model_name, model in models.items():\n",
    "    print(f\"\\n --- {model_name} ---\")\n",
    "    model.fit(X_train_final, y_train)\n",
    "    y_pred = model.predict(X_test_final)\n",
    "\n",
    "    acc = accuracy_score(y_test, y_pred)\n",
    "    prec = precision_score(y_test, y_pred)\n",
    "    rec = recall_score(y_test, y_pred)\n",
    "    cm = confusion_matrix(y_test, y_pred)\n",
    "\n",
    "    print(\"Accuracy:\", acc)\n",
    "    print(\"Precision:\", prec)\n",
    "    print(\"Recall:\", rec)\n",
    "    print(\"Confusion Matrix:\\n\", cm)\n",
    "\n",
    "    accuracy.append(acc)\n",
    "    precision.append(prec)\n",
    "    recall.append(rec)\n",
    "\n",
    "    # check if this model has the best recall so far\n",
    "    if rec > best_recall:\n",
    "        best_recall = rec\n",
    "        best_model = model\n",
    "        best_model_name = model_name\n",
    "        best_cm = cm\n",
    "\n",
    "    print(\"=\"*60)\n",
    "\n",
    "print(f\"\\n Best Model based on Recall: {best_model_name}\")\n",
    "print(f\"Recall: {best_recall:.4f}\")\n",
    "print(\"Confusion Matrix of Best Model:\\n\", best_cm)"
   ]
  },
  {
   "cell_type": "code",
   "execution_count": 52,
   "id": "e239e0ec",
   "metadata": {},
   "outputs": [
    {
     "data": {
      "text/html": [
       "<style>#sk-container-id-1 {color: black;}#sk-container-id-1 pre{padding: 0;}#sk-container-id-1 div.sk-toggleable {background-color: white;}#sk-container-id-1 label.sk-toggleable__label {cursor: pointer;display: block;width: 100%;margin-bottom: 0;padding: 0.3em;box-sizing: border-box;text-align: center;}#sk-container-id-1 label.sk-toggleable__label-arrow:before {content: \"▸\";float: left;margin-right: 0.25em;color: #696969;}#sk-container-id-1 label.sk-toggleable__label-arrow:hover:before {color: black;}#sk-container-id-1 div.sk-estimator:hover label.sk-toggleable__label-arrow:before {color: black;}#sk-container-id-1 div.sk-toggleable__content {max-height: 0;max-width: 0;overflow: hidden;text-align: left;background-color: #f0f8ff;}#sk-container-id-1 div.sk-toggleable__content pre {margin: 0.2em;color: black;border-radius: 0.25em;background-color: #f0f8ff;}#sk-container-id-1 input.sk-toggleable__control:checked~div.sk-toggleable__content {max-height: 200px;max-width: 100%;overflow: auto;}#sk-container-id-1 input.sk-toggleable__control:checked~label.sk-toggleable__label-arrow:before {content: \"▾\";}#sk-container-id-1 div.sk-estimator input.sk-toggleable__control:checked~label.sk-toggleable__label {background-color: #d4ebff;}#sk-container-id-1 div.sk-label input.sk-toggleable__control:checked~label.sk-toggleable__label {background-color: #d4ebff;}#sk-container-id-1 input.sk-hidden--visually {border: 0;clip: rect(1px 1px 1px 1px);clip: rect(1px, 1px, 1px, 1px);height: 1px;margin: -1px;overflow: hidden;padding: 0;position: absolute;width: 1px;}#sk-container-id-1 div.sk-estimator {font-family: monospace;background-color: #f0f8ff;border: 1px dotted black;border-radius: 0.25em;box-sizing: border-box;margin-bottom: 0.5em;}#sk-container-id-1 div.sk-estimator:hover {background-color: #d4ebff;}#sk-container-id-1 div.sk-parallel-item::after {content: \"\";width: 100%;border-bottom: 1px solid gray;flex-grow: 1;}#sk-container-id-1 div.sk-label:hover label.sk-toggleable__label {background-color: #d4ebff;}#sk-container-id-1 div.sk-serial::before {content: \"\";position: absolute;border-left: 1px solid gray;box-sizing: border-box;top: 0;bottom: 0;left: 50%;z-index: 0;}#sk-container-id-1 div.sk-serial {display: flex;flex-direction: column;align-items: center;background-color: white;padding-right: 0.2em;padding-left: 0.2em;position: relative;}#sk-container-id-1 div.sk-item {position: relative;z-index: 1;}#sk-container-id-1 div.sk-parallel {display: flex;align-items: stretch;justify-content: center;background-color: white;position: relative;}#sk-container-id-1 div.sk-item::before, #sk-container-id-1 div.sk-parallel-item::before {content: \"\";position: absolute;border-left: 1px solid gray;box-sizing: border-box;top: 0;bottom: 0;left: 50%;z-index: -1;}#sk-container-id-1 div.sk-parallel-item {display: flex;flex-direction: column;z-index: 1;position: relative;background-color: white;}#sk-container-id-1 div.sk-parallel-item:first-child::after {align-self: flex-end;width: 50%;}#sk-container-id-1 div.sk-parallel-item:last-child::after {align-self: flex-start;width: 50%;}#sk-container-id-1 div.sk-parallel-item:only-child::after {width: 0;}#sk-container-id-1 div.sk-dashed-wrapped {border: 1px dashed gray;margin: 0 0.4em 0.5em 0.4em;box-sizing: border-box;padding-bottom: 0.4em;background-color: white;}#sk-container-id-1 div.sk-label label {font-family: monospace;font-weight: bold;display: inline-block;line-height: 1.2em;}#sk-container-id-1 div.sk-label-container {text-align: center;}#sk-container-id-1 div.sk-container {/* jupyter's `normalize.less` sets `[hidden] { display: none; }` but bootstrap.min.css set `[hidden] { display: none !important; }` so we also need the `!important` here to be able to override the default hidden behavior on the sphinx rendered scikit-learn.org. See: https://github.com/scikit-learn/scikit-learn/issues/21755 */display: inline-block !important;position: relative;}#sk-container-id-1 div.sk-text-repr-fallback {display: none;}</style><div id=\"sk-container-id-1\" class=\"sk-top-container\"><div class=\"sk-text-repr-fallback\"><pre>RandomForestClassifier(class_weight=&#x27;balanced&#x27;, n_estimators=20, n_jobs=-1,\n",
       "                       random_state=42)</pre><b>In a Jupyter environment, please rerun this cell to show the HTML representation or trust the notebook. <br />On GitHub, the HTML representation is unable to render, please try loading this page with nbviewer.org.</b></div><div class=\"sk-container\" hidden><div class=\"sk-item\"><div class=\"sk-estimator sk-toggleable\"><input class=\"sk-toggleable__control sk-hidden--visually\" id=\"sk-estimator-id-1\" type=\"checkbox\" checked><label for=\"sk-estimator-id-1\" class=\"sk-toggleable__label sk-toggleable__label-arrow\">RandomForestClassifier</label><div class=\"sk-toggleable__content\"><pre>RandomForestClassifier(class_weight=&#x27;balanced&#x27;, n_estimators=20, n_jobs=-1,\n",
       "                       random_state=42)</pre></div></div></div></div></div>"
      ],
      "text/plain": [
       "RandomForestClassifier(class_weight='balanced', n_estimators=20, n_jobs=-1,\n",
       "                       random_state=42)"
      ]
     },
     "execution_count": 52,
     "metadata": {},
     "output_type": "execute_result"
    }
   ],
   "source": [
    "best_model"
   ]
  },
  {
   "cell_type": "markdown",
   "id": "e123888a",
   "metadata": {},
   "source": [
    "## Testing on Unseen data 1"
   ]
  },
  {
   "cell_type": "code",
   "execution_count": 53,
   "id": "4384b659",
   "metadata": {},
   "outputs": [
    {
     "name": "stdout",
     "output_type": "stream",
     "text": [
      "https://www.google.com/search?q=phishing --> Legitimate (0)\n",
      "https://www.microsoft.com/en-us --> Legitimate (0)\n",
      "https://www.amazon.in/gp/cart/view.html --> Legitimate (0)\n",
      "https://github.com/openai/gpt --> Phishing (1)\n",
      "https://www.wikipedia.org/ --> Legitimate (0)\n",
      "http://login.google.verify-account-security.com/update --> Phishing (1)\n",
      "http://paypal.com.user-login.secure.verify.account.1234.cn --> Phishing (1)\n",
      "https://amaz0n-login-checkout.xyz/secure --> Phishing (1)\n",
      "http://192.168.1.50/paypal/verify --> Phishing (1)\n",
      "https://secure-bank-login-update.top/online --> Phishing (1)\n"
     ]
    }
   ],
   "source": [
    "# Example manual URLs\n",
    "test_urls = [\n",
    "    # Legitimate\n",
    "    \"https://www.google.com/search?q=phishing\",\n",
    "    \"https://www.microsoft.com/en-us\",\n",
    "    \"https://www.amazon.in/gp/cart/view.html\",\n",
    "    \"https://github.com/openai/gpt\",\n",
    "    \"https://www.wikipedia.org/\",\n",
    "\n",
    "    # Phishing-like\n",
    "    \"http://login.google.verify-account-security.com/update\",\n",
    "    \"http://paypal.com.user-login.secure.verify.account.1234.cn\",\n",
    "    \"https://amaz0n-login-checkout.xyz/secure\",\n",
    "    \"http://192.168.1.50/paypal/verify\",\n",
    "    \"https://secure-bank-login-update.top/online\"\n",
    "]\n",
    "\n",
    "# Convert to DataFrame (match with training format)\n",
    "test_df = pd.DataFrame(test_urls, columns=[\"URL\"])\n",
    "\n",
    "# Apply same feature engineering as training\n",
    "X_manual = extract_features(test_df)\n",
    "\n",
    "# Predict with trained model\n",
    "\n",
    "X_manual_tfidf = vectorizer.transform(X_manual[\"URL\"])\n",
    "X_manual_scales = scaler.transform(X_manual.select_dtypes(include=['int64', 'float64']))\n",
    "X_manual_final = hstack([X_manual_tfidf, X_manual_scales])\n",
    "manual_preds = best_model.predict(X_manual_final)\n",
    "\n",
    "# Show results\n",
    "for url, pred in zip(test_urls, manual_preds):\n",
    "    print(f\"{url} --> {'Legitimate (0)' if pred==0 else 'Phishing (1)'}\")\n"
   ]
  },
  {
   "cell_type": "markdown",
   "id": "1f0a8eca",
   "metadata": {},
   "source": [
    "## Testing on Unseen data2"
   ]
  },
  {
   "cell_type": "code",
   "execution_count": 54,
   "id": "831edce4",
   "metadata": {},
   "outputs": [
    {
     "name": "stdout",
     "output_type": "stream",
     "text": [
      "https://www.google.com/search?q=data+science --> Legitimate (0)\n",
      "http://login.paypal.com.account-update.net/login.html --> Phishing (1)\n",
      "https://github.com/scikit-learn/scikit-learn --> Phishing (1)\n",
      "https://www.wikipedia.org/wiki/Phishing --> Legitimate (0)\n",
      "https://secure-apple.com.secure-login-12.com/account-verify/ --> Phishing (1)\n",
      "http://216.58.192.142/bank/login.php --> Phishing (1)\n",
      "https://www.ebay-security-payment-info.com/signin/ --> Legitimate (0)\n",
      "https://www.youtube.com/watch?v=dQw4w9WgXcQ --> Legitimate (0)\n"
     ]
    }
   ],
   "source": [
    "test_urls = [\n",
    "            \"https://www.google.com/search?q=data+science\",\n",
    "            \"http://login.paypal.com.account-update.net/login.html\",\n",
    "            \"https://github.com/scikit-learn/scikit-learn\",\n",
    "            \"https://www.wikipedia.org/wiki/Phishing\",\n",
    "            \"https://secure-apple.com.secure-login-12.com/account-verify/\",\n",
    "            \"http://216.58.192.142/bank/login.php\",\n",
    "            \"https://www.ebay-security-payment-info.com/signin/\",\n",
    "            \"https://www.youtube.com/watch?v=dQw4w9WgXcQ\"\n",
    "        ]\n",
    "\n",
    "# Convert to DataFrame (match with training format)\n",
    "test_df = pd.DataFrame(test_urls, columns=[\"URL\"])\n",
    "\n",
    "# Apply same feature engineering as training\n",
    "X_manual = extract_features(test_df)\n",
    "\n",
    "# Predict with trained model\n",
    "\n",
    "X_manual_tfidf = vectorizer.transform(X_manual[\"URL\"])\n",
    "X_manual_scales = scaler.transform(X_manual.select_dtypes(include=['int64', 'float64']))\n",
    "X_manual_final = hstack([X_manual_tfidf, X_manual_scales])\n",
    "manual_preds = best_model.predict(X_manual_final)\n",
    "\n",
    "# Show results\n",
    "for url, pred in zip(test_urls, manual_preds):\n",
    "    print(f\"{url} --> {'Legitimate (0)' if pred==0 else 'Phishing (1)'}\")\n"
   ]
  },
  {
   "cell_type": "code",
   "execution_count": null,
   "id": "b09b17e5",
   "metadata": {},
   "outputs": [],
   "source": []
  }
 ],
 "metadata": {
  "kernelspec": {
   "display_name": "Python 3",
   "language": "python",
   "name": "python3"
  },
  "language_info": {
   "codemirror_mode": {
    "name": "ipython",
    "version": 3
   },
   "file_extension": ".py",
   "mimetype": "text/x-python",
   "name": "python",
   "nbconvert_exporter": "python",
   "pygments_lexer": "ipython3",
   "version": "3.8.20"
  }
 },
 "nbformat": 4,
 "nbformat_minor": 5
}
